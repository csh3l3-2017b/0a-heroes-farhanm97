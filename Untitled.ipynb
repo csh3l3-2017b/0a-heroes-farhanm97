{
 "cells": [
  {
   "cell_type": "markdown",
   "metadata": {},
   "source": [
    "# TelU Legends Heroes Solutions"
   ]
  },
  {
   "cell_type": "markdown",
   "metadata": {},
   "source": [
    "Nama : Farhan Bary Maruanaya\n",
    "NIM : 130115004\n",
    "Kelas : IF 39-02"
   ]
  },
  {
   "cell_type": "markdown",
   "metadata": {},
   "source": [
    "## Import tools"
   ]
  },
  {
   "cell_type": "markdown",
   "metadata": {},
   "source": [
    "Tools yang digunakan untuk mengerjakan tugas"
   ]
  },
  {
   "cell_type": "code",
   "execution_count": 1,
   "metadata": {
    "collapsed": true
   },
   "outputs": [],
   "source": [
    "import pandas as pd"
   ]
  },
  {
   "cell_type": "markdown",
   "metadata": {},
   "source": [
    "## Data"
   ]
  },
  {
   "cell_type": "markdown",
   "metadata": {},
   "source": [
    "Memasukan data yang akan diproses ke dalam program"
   ]
  },
  {
   "cell_type": "code",
   "execution_count": 2,
   "metadata": {},
   "outputs": [],
   "source": [
    "data = pd.read_csv('test.csv')\n"
   ]
  },
  {
   "cell_type": "markdown",
   "metadata": {},
   "source": [
    "## Deklarasi Atribut"
   ]
  },
  {
   "cell_type": "markdown",
   "metadata": {},
   "source": [
    "Deklarasi variabel yang akan digunakan dalam program. variabel akan digunakan untuk menyimpan data hasil dari program"
   ]
  },
  {
   "cell_type": "code",
   "execution_count": 3,
   "metadata": {},
   "outputs": [],
   "source": [
    "hero = data[\"name\"]\n",
    "role = []\n"
   ]
  },
  {
   "cell_type": "markdown",
   "metadata": {},
   "source": [
    "## Pengolahan Data"
   ]
  },
  {
   "cell_type": "code",
   "execution_count": 4,
   "metadata": {},
   "outputs": [
    {
     "name": "stdout",
     "output_type": "stream",
     "text": [
      "           name  movementSpeed  physicalAttack  armor    hp  mana\n",
      "0         Layla            270             118     15  2500   424\n",
      "1       Cyclops            250             107     18  2461   500\n",
      "2      Minotaur            265             123     25  2705     0\n",
      "3         Saber            265             121     17  2475   443\n",
      "4         Roger            235             120     22  2580   450\n",
      "5          Nana            250             110     17  2325   499\n",
      "6          Akai            260             115     24  2769   422\n",
      "7         Alice            240             109     21  2397   493\n",
      "8         Alpha            236             121     20  2646   453\n",
      "9       Alucard            265             118     21  2593     0\n",
      "10        Argus            260             124     21  2628     0\n",
      "11       Aurora            245             105     17  2441   500\n",
      "12      Balmond            265             114     23  2602     0\n",
      "13         Bane            265             117     23  2625   433\n",
      "14        Bruno            240             116     17  2402   439\n",
      "15         Chou            265             121     23  2598     0\n",
      "16        Clint            248             122     20  2500   450\n",
      "17       Diggie            250             115     16  2351   490\n",
      "18        Estes            240             115     13  2161   545\n",
      "19       Eudora            250             112     19  2524   468\n",
      "20        Fanny            270             126     17  2402     0\n",
      "21       Franco            255             116     25  2575   440\n",
      "22        Freya            265             109     22  2673   462\n",
      "23    Gatotkaca            260             120     20  2709   440\n",
      "24         Gord            240             105     13  2302   570\n",
      "25        Grock            260             135     21  2819   430\n",
      "26       Harley            240             114     19  2501   490\n",
      "27     Hayabusa            265             114     17  2555   479\n",
      "28       Helcur            255             121     17  2599   440\n",
      "29        Hilda            260             123     24  2909     0\n",
      "30        Hylos            260             105     17  3309   430\n",
      "31      Irithel            250             110     17  2540   438\n",
      "32      Johnson            255             112     27  2809     0\n",
      "33       Kagura            240             113     19  2380   519\n",
      "34       Karina            265             121     20  2505   431\n",
      "35       Karrie            240             112     17  2498   440\n",
      "36     Lancelot            260             124     16  2546   450\n",
      "37    Lapu-lapu            260             119     21  2628     0\n",
      "38       Lolita            265             115     27  2545     0\n",
      "39         Miya            235             114     17  2404   445\n",
      "40       Moskov            240             125     16  2530   420\n",
      "41      Natalia            265             121     18  2465   486\n",
      "42       Odette            240             105     18  2491   495\n",
      "43       Pharsa            240             109     15  2421   490\n",
      "44      Rafaela            245             112     15  2265   545\n",
      "45         Ruby            265             114     23  2709   430\n",
      "46   Sun Wukong            265             114     23  2630   400\n",
      "47      Tigreal            265             112     25  2756   450\n",
      "48       Vexana            245             112     17  2421   490\n",
      "49  Yi Sun-Shin            240             110     18  2520   438\n",
      "50     Yun Zhao            270             123     25  2561   405\n",
      "51        Zhask            240             107     15  2401   490\n"
     ]
    }
   ],
   "source": [
    "print(data)\n"
   ]
  },
  {
   "cell_type": "markdown",
   "metadata": {},
   "source": [
    "Dari data tersebut, akan diolah menggunakan aturan sebagai berikut\n",
    "\n",
    "    Heroes yang memiliki movementSpeed >= 270, akan mendapat peran sebagai MARKSMAN (huruf kapital semua)\n",
    "    Heroes dengan mana >= 500, akan mendapat peran sebagai MAGE (huruf kapital semua)\n",
    "    Heroes dengan armor >= 25, akan mendapat peran sebagai TANK (huruf kapital semua)\n",
    "    Heroes dengan physicalAttack >= 121, akan mendapat peran sebagai ASSASSIN (huruf kapital semua)\n",
    "    Heroes dengan hp >= 2580, akan mendapat peran sebagai FIGHTER (huruf kapital semua)\n",
    "    Heroes lainnya akan mendapat peran sebagai SUPPORT (huruf kapital semua)\n",
    "\n",
    "Kemudian akan disimpan pada file csv yang bernama prediction.csv"
   ]
  },
  {
   "cell_type": "code",
   "execution_count": 5,
   "metadata": {},
   "outputs": [
    {
     "name": "stdout",
     "output_type": "stream",
     "text": [
      "52\n"
     ]
    }
   ],
   "source": [
    "## pada bagian ini, program akan melihat nilai setiap kolom dari 1 baris data, kecuali kolom name dan menentukan role yang tepat untuk hero tersebut\n",
    "role.clear\n",
    "for i in range(len(hero)):\n",
    "    if (data[\"movementSpeed\"][i] >= 270):\n",
    "        role.append(\"MARKSMAN\")\n",
    "    elif (data[\"mana\"][i] >= 500):\n",
    "        role.append(\"MAGE\")\n",
    "    elif (data[\"armor\"][i]>= 25):\n",
    "        role.append(\"TANK\")\n",
    "    elif (data[\"physicalAttack\"][i] >= 121):\n",
    "        role.append(\"ASSASSIN\")\n",
    "    elif (data[\"hp\"][i] >= 2580):\n",
    "        role.append(\"FIGHTER\")\n",
    "    else:\n",
    "        role.append(\"SUPPORT\")\n",
    "        \n",
    "print(len(role))"
   ]
  },
  {
   "cell_type": "markdown",
   "metadata": {},
   "source": [
    "Kemudian hasil dari bagian di atas dimasukkan ke dalam file CSV beserta Name hero"
   ]
  },
  {
   "cell_type": "code",
   "execution_count": 6,
   "metadata": {},
   "outputs": [],
   "source": [
    "prediction = pd.DataFrame({\"name\": hero,\"role\" : role})\n",
    "prediction.to_csv('prediction.csv',index=False)"
   ]
  },
  {
   "cell_type": "code",
   "execution_count": null,
   "metadata": {
    "collapsed": true
   },
   "outputs": [],
   "source": []
  }
 ],
 "metadata": {
  "kernelspec": {
   "display_name": "Python 3",
   "language": "python",
   "name": "python3"
  },
  "language_info": {
   "codemirror_mode": {
    "name": "ipython",
    "version": 3
   },
   "file_extension": ".py",
   "mimetype": "text/x-python",
   "name": "python",
   "nbconvert_exporter": "python",
   "pygments_lexer": "ipython3",
   "version": "3.6.3"
  }
 },
 "nbformat": 4,
 "nbformat_minor": 2
}
